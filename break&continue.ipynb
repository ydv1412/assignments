{
 "cells": [
  {
   "cell_type": "markdown",
   "metadata": {},
   "source": [
    "# break in python"
   ]
  },
  {
   "cell_type": "code",
   "execution_count": 3,
   "metadata": {},
   "outputs": [
    {
     "name": "stdout",
     "output_type": "stream",
     "text": [
      "1\n",
      "2\n",
      "3\n",
      "4\n",
      "this is else\n"
     ]
    }
   ],
   "source": [
    "list1 = [1,2,3,4]\n",
    "\n",
    "for i in list1:\n",
    "    if(i==5):\n",
    "        break\n",
    "    print(i)\n",
    "\n",
    "else:\n",
    "    print(\"this is else\")"
   ]
  },
  {
   "cell_type": "markdown",
   "metadata": {},
   "source": [
    "# continue in python"
   ]
  },
  {
   "cell_type": "code",
   "execution_count": 4,
   "metadata": {},
   "outputs": [
    {
     "name": "stdout",
     "output_type": "stream",
     "text": [
      "1\n",
      "3\n",
      "this is else\n"
     ]
    }
   ],
   "source": [
    "list1 = [1,2,3,4]                               #code to print odd numbers in a sequential data structure\n",
    "\n",
    "for i in list1:\n",
    "    if( ( i % 2) == 0 ):\n",
    "        continue\n",
    "    print(i)\n",
    "\n",
    "else:\n",
    "    print(\"this is else\")\n"
   ]
  },
  {
   "cell_type": "code",
   "execution_count": null,
   "metadata": {},
   "outputs": [],
   "source": []
  }
 ],
 "metadata": {
  "kernelspec": {
   "display_name": "Python 3",
   "language": "python",
   "name": "python3"
  },
  "language_info": {
   "codemirror_mode": {
    "name": "ipython",
    "version": 3
   },
   "file_extension": ".py",
   "mimetype": "text/x-python",
   "name": "python",
   "nbconvert_exporter": "python",
   "pygments_lexer": "ipython3",
   "version": "3.8.5"
  }
 },
 "nbformat": 4,
 "nbformat_minor": 4
}
