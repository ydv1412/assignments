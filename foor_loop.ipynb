{
 "cells": [
  {
   "cell_type": "markdown",
   "metadata": {},
   "source": [
    "# for loop in python"
   ]
  },
  {
   "cell_type": "code",
   "execution_count": 1,
   "metadata": {},
   "outputs": [
    {
     "name": "stdout",
     "output_type": "stream",
     "text": [
      "the sum is 15 \n"
     ]
    }
   ],
   "source": [
    "list1 = [1,2,3,4,5]\n",
    "\n",
    "summation = 0\n",
    "\n",
    "for i in range( len(list1) ):\n",
    "    summation += list1[i]\n",
    "    \n",
    "print(\"the sum is {} \".format(summation) )"
   ]
  },
  {
   "cell_type": "code",
   "execution_count": 8,
   "metadata": {},
   "outputs": [
    {
     "name": "stdout",
     "output_type": "stream",
     "text": [
      "the sum is 15 \n"
     ]
    }
   ],
   "source": [
    "##OR\n",
    "\n",
    "list1 = [1,2,3,4,5]\n",
    "\n",
    "summation = 0\n",
    "\n",
    "for ele in list1:\n",
    "    summation += ele\n",
    "    \n",
    "print(\"the sum is {} \".format(summation) )"
   ]
  },
  {
   "cell_type": "code",
   "execution_count": 12,
   "metadata": {},
   "outputs": [
    {
     "name": "stdout",
     "output_type": "stream",
     "text": [
      "0\n",
      "2\n",
      "4\n",
      "6\n",
      "8\n"
     ]
    }
   ],
   "source": [
    "#range() function\n",
    "\n",
    "\n",
    "for i in range(0,10,2):\n",
    "    print(i)\n",
    "    \n"
   ]
  },
  {
   "cell_type": "code",
   "execution_count": 13,
   "metadata": {},
   "outputs": [
    {
     "name": "stdout",
     "output_type": "stream",
     "text": [
      "satish\n",
      "ramesh\n",
      "kamlesh\n"
     ]
    }
   ],
   "source": [
    "##for loop to print strings inside a list\n",
    "\n",
    "list1 = [\"satish\",\"ramesh\",\"kamlesh\"]\n",
    "for name in list1:\n",
    "    print(name)"
   ]
  },
  {
   "cell_type": "code",
   "execution_count": 14,
   "metadata": {},
   "outputs": [
    {
     "name": "stdout",
     "output_type": "stream",
     "text": [
      "satish\n",
      "ramesh\n",
      "kamlesh\n",
      "end\n"
     ]
    }
   ],
   "source": [
    "##for loop to print strings inside a list\n",
    "## with  else statement\n",
    "list1 = [\"satish\",\"ramesh\",\"kamlesh\"]\n",
    "for name in list1:\n",
    "    print(name)\n",
    "else:\n",
    "    print(\"end\")                              #esle will run only when loop does not end because of break keyword"
   ]
  },
  {
   "cell_type": "code",
   "execution_count": 15,
   "metadata": {},
   "outputs": [
    {
     "name": "stdout",
     "output_type": "stream",
     "text": [
      "s\n",
      "t\n",
      "r\n",
      "i\n",
      "n\n",
      "g\n"
     ]
    }
   ],
   "source": [
    "##string\n",
    "\n",
    "for s in \"string\":\n",
    "    print(s)"
   ]
  },
  {
   "cell_type": "code",
   "execution_count": null,
   "metadata": {},
   "outputs": [],
   "source": []
  }
 ],
 "metadata": {
  "kernelspec": {
   "display_name": "Python 3",
   "language": "python",
   "name": "python3"
  },
  "language_info": {
   "codemirror_mode": {
    "name": "ipython",
    "version": 3
   },
   "file_extension": ".py",
   "mimetype": "text/x-python",
   "name": "python",
   "nbconvert_exporter": "python",
   "pygments_lexer": "ipython3",
   "version": "3.8.5"
  }
 },
 "nbformat": 4,
 "nbformat_minor": 4
}
