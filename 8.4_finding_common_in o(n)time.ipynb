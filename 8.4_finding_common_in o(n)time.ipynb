{
 "cells": [
  {
   "cell_type": "code",
   "execution_count": 14,
   "metadata": {},
   "outputs": [
    {
     "name": "stdout",
     "output_type": "stream",
     "text": [
      "4\n",
      "5\n",
      "6\n",
      "number of elements common in both 3\n"
     ]
    }
   ],
   "source": [
    "l1 = [1,2,3,4,5,6]\n",
    "\n",
    "l2 = [4,5,6,7,8,9,10]\n",
    "count=0\n",
    "d1 = dict([])\n",
    "\n",
    "for elem in l1:\n",
    "    d1[elem]=1\n",
    "    \n",
    "for elem in l2:\n",
    "    if(d1.get(elem)!=None):\n",
    "        print(elem)\n",
    "        count+=1\n",
    "    \n",
    "print(\"number of elements common in both {}\".format(count))    \n",
    "##for elem in l2:\n",
    "  ##  print(d1.get[elem])\n",
    "    "
   ]
  },
  {
   "cell_type": "code",
   "execution_count": null,
   "metadata": {},
   "outputs": [],
   "source": []
  }
 ],
 "metadata": {
  "kernelspec": {
   "display_name": "Python 3",
   "language": "python",
   "name": "python3"
  },
  "language_info": {
   "codemirror_mode": {
    "name": "ipython",
    "version": 3
   },
   "file_extension": ".py",
   "mimetype": "text/x-python",
   "name": "python",
   "nbconvert_exporter": "python",
   "pygments_lexer": "ipython3",
   "version": "3.8.5"
  }
 },
 "nbformat": 4,
 "nbformat_minor": 4
}
