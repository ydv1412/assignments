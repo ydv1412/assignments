{
 "cells": [
  {
   "cell_type": "markdown",
   "metadata": {},
   "source": [
    "# functions to find hcf of numbers"
   ]
  },
  {
   "cell_type": "code",
   "execution_count": 9,
   "metadata": {},
   "outputs": [
    {
     "name": "stdout",
     "output_type": "stream",
     "text": [
      "enter a\n",
      "18\n",
      "enter b\n",
      "4\n",
      "this function calculates the HCF between teo numbers\n",
      "the HCF of 18 and 4 is 2\n"
     ]
    }
   ],
   "source": [
    "def HCF(a,b):\n",
    "    \"\"\"this function calculates the HCF between teo numbers\"\"\"\n",
    "    smallest=0\n",
    "    largest=0\n",
    "    if(a<=b):\n",
    "        smallest=a ; largest=b\n",
    "    else:\n",
    "        smallest=b ; largest=a\n",
    "    while((largest%smallest)!=0):\n",
    "        temp=smallest\n",
    "        smallest=largest%smallest\n",
    "        largest=temp\n",
    "        \n",
    "    return smallest\n",
    "\n",
    "print(\"enter a\")\n",
    "a=int(input())\n",
    "print(\"enter b\")\n",
    "b=int(input())\n",
    "\n",
    "factor=HCF(a,b)\n",
    "\n",
    "print(HCF.__doc__)\n",
    "print(\"the HCF of {} and {} is {}\".format(a,b,factor))\n",
    "        "
   ]
  },
  {
   "cell_type": "code",
   "execution_count": null,
   "metadata": {},
   "outputs": [],
   "source": []
  }
 ],
 "metadata": {
  "kernelspec": {
   "display_name": "Python 3",
   "language": "python",
   "name": "python3"
  },
  "language_info": {
   "codemirror_mode": {
    "name": "ipython",
    "version": 3
   },
   "file_extension": ".py",
   "mimetype": "text/x-python",
   "name": "python",
   "nbconvert_exporter": "python",
   "pygments_lexer": "ipython3",
   "version": "3.8.5"
  }
 },
 "nbformat": 4,
 "nbformat_minor": 4
}
