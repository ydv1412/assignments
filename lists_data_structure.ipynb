{
 "cells": [
  {
   "cell_type": "code",
   "execution_count": 1,
   "metadata": {},
   "outputs": [
    {
     "name": "stdout",
     "output_type": "stream",
     "text": [
      "[1, 2, 3, (1, 2, 3, 4), 'string', {1, 2, 3}]\n",
      "<class 'list'>\n"
     ]
    }
   ],
   "source": [
    "list1 = [ 1, 2, 3, (1,2,3,4), \"string\", { 1, 2, 3}]\n",
    "print(list1)\n",
    "print(type(list1))"
   ]
  },
  {
   "cell_type": "markdown",
   "metadata": {},
   "source": [
    "##length function to retrieve length of a list"
   ]
  },
  {
   "cell_type": "code",
   "execution_count": 4,
   "metadata": {},
   "outputs": [
    {
     "name": "stdout",
     "output_type": "stream",
     "text": [
      "6\n"
     ]
    }
   ],
   "source": [
    "print(len(list1))"
   ]
  },
  {
   "cell_type": "markdown",
   "metadata": {},
   "source": [
    "###append function to add an element to lists"
   ]
  },
  {
   "cell_type": "code",
   "execution_count": 7,
   "metadata": {},
   "outputs": [
    {
     "name": "stdout",
     "output_type": "stream",
     "text": [
      "[1, 2, 3, (1, 2, 3, 4), 'string', {1, 2, 3}, 4]\n"
     ]
    }
   ],
   "source": [
    "list1.append(4)\n",
    "print(list1)"
   ]
  },
  {
   "cell_type": "code",
   "execution_count": 8,
   "metadata": {},
   "outputs": [
    {
     "name": "stdout",
     "output_type": "stream",
     "text": [
      "[1, 2, 3, (1, 2, 3, 4), 'string', {1, 2, 3}, 4, ['bagi', 'balia']]\n"
     ]
    }
   ],
   "source": [
    "list2=[\"bagi\",\"balia\"]\n",
    "list1.append(list2)\n",
    "print(list1)"
   ]
  },
  {
   "cell_type": "markdown",
   "metadata": {},
   "source": [
    "###use of extend() function to add elements to lists"
   ]
  },
  {
   "cell_type": "code",
   "execution_count": 9,
   "metadata": {},
   "outputs": [
    {
     "name": "stdout",
     "output_type": "stream",
     "text": [
      "[1, 2, 3, (1, 2, 3, 4), 'string', {1, 2, 3}, 4, ['bagi', 'balia'], 'bagi', 'balia']\n"
     ]
    }
   ],
   "source": [
    "list1.extend(list2)\n",
    "print(list1)"
   ]
  },
  {
   "cell_type": "markdown",
   "metadata": {},
   "source": [
    "###use of insert()function to insert an element in middle of list"
   ]
  },
  {
   "cell_type": "code",
   "execution_count": 10,
   "metadata": {},
   "outputs": [
    {
     "name": "stdout",
     "output_type": "stream",
     "text": [
      "[1, 2, '$', 3, (1, 2, 3, 4), 'string', {1, 2, 3}, 4, ['bagi', 'balia'], 'bagi', 'balia']\n"
     ]
    }
   ],
   "source": [
    "list1.insert(2,'$')\n",
    "print(list1)"
   ]
  },
  {
   "cell_type": "code",
   "execution_count": 12,
   "metadata": {},
   "outputs": [
    {
     "name": "stdout",
     "output_type": "stream",
     "text": [
      "[1, 2, '$', 3, (1, 2, 3, 4), 'string', {1, 2, 3}, 4, ['bagi', 'balia'], 'bagi', 'balia', '%', '%']\n"
     ]
    }
   ],
   "source": [
    "list1.insert(11,'%');print(list1)"
   ]
  },
  {
   "cell_type": "code",
   "execution_count": 13,
   "metadata": {},
   "outputs": [
    {
     "name": "stdout",
     "output_type": "stream",
     "text": [
      "[1, 2, '$', 3, (1, 2, 3, 4), 'string', {1, 2, 3}, 4, ['bagi', 'balia'], 'bagi', 'balia', '%', '%', '%']\n"
     ]
    }
   ],
   "source": [
    "list1.insert(14,'%');print(list1)"
   ]
  },
  {
   "cell_type": "code",
   "execution_count": 15,
   "metadata": {},
   "outputs": [
    {
     "name": "stdout",
     "output_type": "stream",
     "text": [
      "[1, 2, '$', 3, (1, 2, 3, 4), 'string', {1, 2, 3}, 4, ['bagi', 'balia'], 'bagi', 'balia', '%', '%']\n"
     ]
    }
   ],
   "source": [
    "list1.remove('%')\n",
    "print(list1)"
   ]
  },
  {
   "cell_type": "code",
   "execution_count": 16,
   "metadata": {},
   "outputs": [
    {
     "name": "stdout",
     "output_type": "stream",
     "text": [
      "[1, 2, '$', 3, (1, 2, 3, 4), 'string', {1, 2, 3}, 4, ['bagi', 'balia'], 'bagi', 'balia', '%']\n"
     ]
    }
   ],
   "source": [
    "list1.remove('%')\n",
    "print(list1)"
   ]
  },
  {
   "cell_type": "markdown",
   "metadata": {},
   "source": [
    "##use of del keyword and pop() function to delete an element from a list on basis of index\n"
   ]
  },
  {
   "cell_type": "code",
   "execution_count": 17,
   "metadata": {},
   "outputs": [
    {
     "name": "stdout",
     "output_type": "stream",
     "text": [
      "[1, 2, 3, (1, 2, 3, 4), 'string', {1, 2, 3}, 4, ['bagi', 'balia'], 'bagi', 'balia', '%']\n",
      "[1, 2, (1, 2, 3, 4), 'string', {1, 2, 3}, 4, ['bagi', 'balia'], 'bagi', 'balia', '%']\n"
     ]
    }
   ],
   "source": [
    "del list1[2]\n",
    "print(list1)\n",
    "\n",
    "##OR\n",
    "\n",
    "a=list1.pop(2)\n",
    "print(list1)"
   ]
  },
  {
   "cell_type": "code",
   "execution_count": 18,
   "metadata": {},
   "outputs": [
    {
     "name": "stdout",
     "output_type": "stream",
     "text": [
      "[1, 2, (1, 2, 3, 4), {1, 2, 3}, 4, ['bagi', 'balia'], 'bagi', 'balia', '%']\n"
     ]
    }
   ],
   "source": [
    "list1.remove(list1[3])\n",
    "print(list1)"
   ]
  },
  {
   "cell_type": "markdown",
   "metadata": {},
   "source": [
    "#use of ini and not in keyword in python"
   ]
  },
  {
   "cell_type": "code",
   "execution_count": 21,
   "metadata": {},
   "outputs": [
    {
     "name": "stdout",
     "output_type": "stream",
     "text": [
      "1 is present\n",
      "8 is not present\n"
     ]
    }
   ],
   "source": [
    "if 1 in list1:\n",
    "    print(\"1 is present\")\n",
    "\n",
    "    \n",
    "if 8 not in list1:\n",
    "    print(\"8 is not present\")"
   ]
  },
  {
   "cell_type": "markdown",
   "metadata": {},
   "source": [
    "##reverse function in python"
   ]
  },
  {
   "cell_type": "code",
   "execution_count": 2,
   "metadata": {},
   "outputs": [
    {
     "name": "stdout",
     "output_type": "stream",
     "text": [
      "[{1, 2, 3}, 'string', (1, 2, 3, 4), 3, 2, 1]\n"
     ]
    }
   ],
   "source": [
    "list1.reverse()\n",
    "print(list1)                       #reverse function does not returns anything ie NONE"
   ]
  },
  {
   "cell_type": "markdown",
   "metadata": {},
   "source": [
    "# #sort and sorted functions on lists"
   ]
  },
  {
   "cell_type": "code",
   "execution_count": 29,
   "metadata": {},
   "outputs": [
    {
     "name": "stdout",
     "output_type": "stream",
     "text": [
      "[1, 2, 3, 4, 6, 7]\n",
      "[4, 3, 2, 1, 6, 7]\n"
     ]
    }
   ],
   "source": [
    "list4=[4,3,2,1,6,7]\n",
    "list3=sorted(list4)\n",
    "print(list3)\n",
    "print(list4)"
   ]
  },
  {
   "cell_type": "code",
   "execution_count": 30,
   "metadata": {},
   "outputs": [
    {
     "name": "stdout",
     "output_type": "stream",
     "text": [
      "[7, 6, 4, 3, 2, 1]\n",
      "[4, 3, 2, 1, 6, 7]\n"
     ]
    }
   ],
   "source": [
    "#sorted fuunction has also a second optional argument \"reverse=True\" which sorts a list in reverse order\n",
    "\n",
    "\n",
    "list4=[4,3,2,1,6,7]\n",
    "list3=sorted(list4,reverse=True)\n",
    "print(list3)\n",
    "print(list4)"
   ]
  },
  {
   "cell_type": "code",
   "execution_count": 33,
   "metadata": {},
   "outputs": [
    {
     "name": "stdout",
     "output_type": "stream",
     "text": [
      "[1, 2, 3, 4, 6, 7]\n"
     ]
    }
   ],
   "source": [
    "#sort() function is used to sort the list itself\n",
    "\n",
    "list4.sort()\n",
    "print(list4)"
   ]
  },
  {
   "cell_type": "code",
   "execution_count": 36,
   "metadata": {},
   "outputs": [
    {
     "name": "stdout",
     "output_type": "stream",
     "text": [
      "['a', 'b', 'c', 'd', 'e', 'i', 'j', 'm']\n"
     ]
    }
   ],
   "source": [
    "\n",
    "##for sorting list should only contain either numbers or characters not both\n",
    "\n",
    "list6=['a','b','c','e','d','m','i','j']\n",
    "list6.sort()\n",
    "print(list6)"
   ]
  },
  {
   "cell_type": "code",
   "execution_count": 38,
   "metadata": {},
   "outputs": [
    {
     "name": "stdout",
     "output_type": "stream",
     "text": [
      "['shri', 'is', 'a', ',', 'good', 'boy', ',ravi', 'is', ',good', 'boy', 'too']\n",
      "['shri is a ', ' good boy ', 'ravi is ', 'good boy too']\n"
     ]
    }
   ],
   "source": [
    "\n",
    "##use of split function to create a list from strings\n",
    "\n",
    "\n",
    "string=\"shri is a , good boy ,ravi is ,good boy too\"\n",
    "\n",
    "list7=string.split()\n",
    "print(list7)\n",
    "\n",
    "list8=string.split(',')\n",
    "print(list8)\n"
   ]
  },
  {
   "cell_type": "markdown",
   "metadata": {},
   "source": [
    "# list having multiple references"
   ]
  },
  {
   "cell_type": "code",
   "execution_count": 3,
   "metadata": {},
   "outputs": [
    {
     "name": "stdout",
     "output_type": "stream",
     "text": [
      "[{1, 2, 3}, 'string', (1, 2, 3, 4), 3, 2, 1]\n",
      "[{1, 2, 3}, 5, (1, 2, 3, 4), 3, 2, 1]\n"
     ]
    }
   ],
   "source": [
    "print(list1)\n",
    "\n",
    "list9=list1                             \n",
    "\n",
    "list9[1]=5                                   #changes\n",
    "\n",
    "print(list1)"
   ]
  },
  {
   "cell_type": "code",
   "execution_count": 4,
   "metadata": {},
   "outputs": [
    {
     "name": "stdout",
     "output_type": "stream",
     "text": [
      "[{1, 2, 3}, 5, (1, 2, 3, 4), 3, 2, 1]\n",
      "2494749409920\n",
      "2494748404288\n"
     ]
    }
   ],
   "source": [
    "print(list1)\n",
    "\n",
    "list0=[1, 5, (1, 2, 3, 4), {1, 2, 3}, 4, ['bagi', 'balia'], 'bagi', 'balia', '%']\n",
    "\n",
    "print(id(list1))\n",
    "\n",
    "print(id(list0))                                              #lists which have sme set of elements are definately \n",
    "                                                              #pointing to same memory location"
   ]
  },
  {
   "cell_type": "markdown",
   "metadata": {},
   "source": [
    "# slicing of lists"
   ]
  },
  {
   "cell_type": "code",
   "execution_count": 47,
   "metadata": {},
   "outputs": [
    {
     "name": "stdout",
     "output_type": "stream",
     "text": [
      "[1, 5, (1, 2, 3, 4), {1, 2, 3}, 4, ['bagi', 'balia'], 'bagi', 'balia', '%']\n",
      "[1, (1, 2, 3, 4), 4, 'bagi', '%']\n"
     ]
    }
   ],
   "source": [
    "\n",
    "\n",
    "print(list1)\n",
    "\n",
    "print(list1[::2])"
   ]
  },
  {
   "cell_type": "markdown",
   "metadata": {},
   "source": [
    "# extending list using \"+\""
   ]
  },
  {
   "cell_type": "code",
   "execution_count": 5,
   "metadata": {},
   "outputs": [
    {
     "name": "stdout",
     "output_type": "stream",
     "text": [
      "[1, 2, 3, 4, 5]\n"
     ]
    }
   ],
   "source": [
    "\n",
    "list1=[1,2,3,4]\n",
    "\n",
    "list1=list1+[5]\n",
    "\n",
    "print(list1)"
   ]
  },
  {
   "cell_type": "code",
   "execution_count": 52,
   "metadata": {},
   "outputs": [],
   "source": [
    "##list count() function can be used to count number of occurence of an particular element in a list"
   ]
  },
  {
   "cell_type": "code",
   "execution_count": 53,
   "metadata": {},
   "outputs": [
    {
     "name": "stdout",
     "output_type": "stream",
     "text": [
      "3\n"
     ]
    }
   ],
   "source": [
    "\n",
    "list1=[1,2,2,1,3,4,3,2,1]\n",
    "\n",
    "print(list1.count(1))\n"
   ]
  },
  {
   "cell_type": "code",
   "execution_count": 54,
   "metadata": {},
   "outputs": [
    {
     "name": "stdout",
     "output_type": "stream",
     "text": [
      "1\n",
      "2\n",
      "2\n",
      "1\n",
      "3\n",
      "4\n",
      "3\n",
      "2\n",
      "1\n"
     ]
    }
   ],
   "source": [
    "##list loopin\n",
    "\n",
    "for elem in list1:\n",
    "    print(elem)"
   ]
  },
  {
   "cell_type": "markdown",
   "metadata": {},
   "source": [
    "# #comprehensions in list\n"
   ]
  },
  {
   "cell_type": "code",
   "execution_count": 55,
   "metadata": {},
   "outputs": [
    {
     "name": "stdout",
     "output_type": "stream",
     "text": [
      "[1, 2, 2, 1, 3, 4, 3, 2, 1]\n"
     ]
    }
   ],
   "source": [
    "\n",
    "## by using comprehensions a list can be initialised in minimum number of statements\n",
    "\n",
    "\n",
    "list2=[i for i in list1]\n",
    "\n",
    "print(list2)"
   ]
  },
  {
   "cell_type": "code",
   "execution_count": 3,
   "metadata": {},
   "outputs": [
    {
     "name": "stdout",
     "output_type": "stream",
     "text": [
      "[2, 2, 3, 4, 3, 2]\n"
     ]
    }
   ],
   "source": [
    "list2=[1, 2, 2, 1, 3, 4, 3, 2, 1]\n",
    "\n",
    "list3=[i for i in list2 if i>1]\n",
    "\n",
    "print(list3)"
   ]
  },
  {
   "cell_type": "markdown",
   "metadata": {},
   "source": [
    "# #nested comprehension in list"
   ]
  },
  {
   "cell_type": "code",
   "execution_count": 4,
   "metadata": {},
   "outputs": [],
   "source": [
    "##example for transposing a matrics"
   ]
  },
  {
   "cell_type": "code",
   "execution_count": 7,
   "metadata": {},
   "outputs": [
    {
     "name": "stdout",
     "output_type": "stream",
     "text": [
      "[[1, 4, 7], [2, 5, 8], [3, 6, 9]]\n"
     ]
    }
   ],
   "source": [
    "matrix=[[1,2,3],\n",
    "        [4,5,6],\n",
    "        [7,8,9]]\n",
    "\n",
    "transpose=[[row[i] for row in matrix]for i in range(3)]\n",
    "print(transpose)"
   ]
  },
  {
   "cell_type": "code",
   "execution_count": null,
   "metadata": {},
   "outputs": [],
   "source": []
  }
 ],
 "metadata": {
  "kernelspec": {
   "display_name": "Python 3",
   "language": "python",
   "name": "python3"
  },
  "language_info": {
   "codemirror_mode": {
    "name": "ipython",
    "version": 3
   },
   "file_extension": ".py",
   "mimetype": "text/x-python",
   "name": "python",
   "nbconvert_exporter": "python",
   "pygments_lexer": "ipython3",
   "version": "3.8.5"
  }
 },
 "nbformat": 4,
 "nbformat_minor": 4
}
