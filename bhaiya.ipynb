{
 "cells": [
  {
   "cell_type": "code",
   "execution_count": 1,
   "metadata": {},
   "outputs": [],
   "source": [
    "import matplotlib.pyplot as plt"
   ]
  },
  {
   "cell_type": "code",
   "execution_count": 7,
   "metadata": {},
   "outputs": [
    {
     "ename": "SyntaxError",
     "evalue": "invalid syntax (<ipython-input-7-e93eb0e27d73>, line 15)",
     "output_type": "error",
     "traceback": [
      "\u001b[1;36m  File \u001b[1;32m\"<ipython-input-7-e93eb0e27d73>\"\u001b[1;36m, line \u001b[1;32m15\u001b[0m\n\u001b[1;33m    ech=mean(diff(T)); %[s]sampling interval\u001b[0m\n\u001b[1;37m                       ^\u001b[0m\n\u001b[1;31mSyntaxError\u001b[0m\u001b[1;31m:\u001b[0m invalid syntax\n"
     ]
    }
   ],
   "source": [
    "clear\n",
    "clc, format compact,format short\n",
    "set(groot,'DefaultFigureWindowStyle' , 'docked','DefaultFigureColor','w' ,'DefaultLineLineWidth',  2,'DefaultLineMarkerSize',22,'DefaultAxesFontName','Times','DefaultAxesFontSize',  26,'DefaultAxesLineWidth',2,\n",
    "'DefaultAxesBox','on','DefaultAxesColor',[1,1,1],\n",
    "'DefaultAxesTickLength',[0.02,0.005]);\n",
    "close all\n",
    "nair=1.000396145;\n",
    "\n",
    "%ˆhttp://emtoolbox.nist.gov/Wavelength/Edlen.asp\n",
    "%ˆinput  values:  1035nm,22C,1.5bar,  0%RH\n",
    "\n",
    "%Arraysfor all frequencies,wavelengths, wave−vectors\n",
    "acc=2^10;\n",
    "  \n",
    "T=7*1e-12*linspace(-1,1,acc);\n",
    "%[s]temporal  domaina\n",
    "ech=mean(diff(T)); %[s]sampling interval\n",
    "freq =(-(acc/2):acc/2-1)/acc/ech; %[Hz]\n",
    "c0= 2.99792458e8; %[m/s]  vacuumspeedoflight\n",
    "lambdaO=1035*1e-9;%[m]laser central wavelength\n",
    "vO= c0/lambdaO; %[Hz] laser central frequency\n",
    "wO=2*pi*vO; %[rad/s]\n",
    "wlO=c0./vO; %[m]\n",
    "v = freq+vO; %[Hz] laser frequencies\n",
    "k=(2*pi*v)./c0; %[1/m]\n",
    "wl=c0./v;%[m] laser wavelengths\n",
    "vT=linspace(0,v(end)-v(1),length(v));%[Hz] THzfrequencies\n",
    "kT=(2*pi*vT)./c0; %[1/m]\n",
    "%Material Dispersioni ntheTHz−GaP(1971Parsons)\n",
    "   \n",
    "Se= [2.570,4.131,1.390];\n",
    "  \n",
    "Ve = [2.90,4.27,5.80]*1e4;%[cmˆ−1]\n",
    "   \n",
    "S0= 2.056;\n",
    "Y0=1.1;%[cmˆ−1]\n",
    "V0= 363.4; %[cmˆ−1]V0∗c0∗1e12/1e12= 10.89THz\n",
    "Sj= [7.0,3.5]*1e-4;\n",
    "  \n",
    "Vj= [349.4,358.4]; %[cmˆ−1]\n",
    "     \n",
    "Yj= [21.0,12.6]; %[cmˆ−1]\n",
    "\n",
    "reld =@(v)1+Se(1)*Ve(1)^2./(Ve(1)^2-v.^2)+Se(2)*Ve(2)^2./(Ve(2)^2-v.^2)+Se(3)*Ve(3)^2./(Ve(3)^2-v.^2)+S0*(1-sum(Sj))*V0^2./(V0^2-v.^2 +1i*v*Y0-V0^2*(Sj(1)*Vj(1)^2./(Vj(1)^2-v.^2 +1i*v*Yj(1))+Sj(2)*Vj(2)^2./(Vj(2)^2-v.^2 +1i*v*Yj(2)))  ) ; \n",
    "\n",
    "funcnTgap=@(v_)real(sqrt(reld(v_/(c0*1e2))));%[v]=Hz\n",
    "funceTgap =@(v_)-imag(sqrt(reld(v_ /(c0*1e2)))); %[v ]=Hz\n",
    "   \n",
    "nTgap= funcnTgap(vT);\n",
    "    \n",
    "eTgap= funceTgap(vT);\n",
    "   \n",
    "aTgap=eTgap.*(2*pi*vT)/c0;%[1/m]amplitudeabsorption\n",
    "nTcgap=nTgap+1i*eTgap;\n",
    "\n",
    "funcnOgap= funcnTgap; %Parsons %modelextendsfrommicrowaveto\tvisible\n",
    "nOgap=funcnOgap(v);\n",
    "[~,p0]=min(abs(v-vO));\n",
    "nglOgap=nOgap(p0)-wl(p0).*(nOgap(p0-1)-nOgap(p0+1))./(wl(p0-1)-wl(p0+1));\n",
    "\n",
    "figure (1)\n",
    "clf\n",
    "subplot(211)\n",
    "\n",
    "yyaxis left\n",
    "plot(vT/1e12,nTgap,'linew',2)\n",
    "line([0 max(vT)/1e12],[nglO gapnglO gap],'lines','--')\n",
    "ylabel('GaP')\n",
    "ylim([0 12])\n",
    "yticks([0 3 6 9 12])\n",
    "% ylabel('{\\bfReal($n$)  }','interpreter','latex')\n",
    "text(15,4.5,['$n g(\\lambda0) =$\t',num2str(nglOgap,'%2.3f')],'interpreter','LaTeX','fontsize',22,'color',[0 0.4470 0.7410])\n",
    "\n",
    "\n",
    "yyaxis right\n",
    "plot(vT/1e12,aTgap/1e3,'linew ',2)\n",
    "% ylabel('AmplitudeAbsorption  (1/mm)')\n",
    "ylim([0 10])\n",
    "xlim([0 20])\n",
    "xticks(0:5:20)\n",
    "set(gca,'XMinorTick','on')\n",
    "\n",
    "\n",
    "\n",
    "  \n",
    "  \n",
    "  "
   ]
  },
  {
   "cell_type": "code",
   "execution_count": null,
   "metadata": {},
   "outputs": [],
   "source": [
    "clear\n",
    "clc, format compact,format short"
   ]
  }
 ],
 "metadata": {
  "kernelspec": {
   "display_name": "Python 3",
   "language": "python",
   "name": "python3"
  },
  "language_info": {
   "codemirror_mode": {
    "name": "ipython",
    "version": 3
   },
   "file_extension": ".py",
   "mimetype": "text/x-python",
   "name": "python",
   "nbconvert_exporter": "python",
   "pygments_lexer": "ipython3",
   "version": "3.8.5"
  }
 },
 "nbformat": 4,
 "nbformat_minor": 4
}
