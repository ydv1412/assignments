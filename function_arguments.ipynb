{
 "cells": [
  {
   "cell_type": "code",
   "execution_count": 6,
   "metadata": {},
   "outputs": [
    {
     "name": "stdout",
     "output_type": "stream",
     "text": [
      "hello shri,evening\n",
      "hello shri,good morning\n"
     ]
    }
   ],
   "source": [
    "###          default arguments\n",
    "\n",
    "def print_name(name,msg=\"good morning\"):           #default arguments should always be used in last otherwise\n",
    "    print(\"hello {0},{1}\".format(name,msg))        # it will give syntax error\n",
    "    \n",
    "print_name(\"shri\",\"evening\")\n",
    "print_name(\"shri\")"
   ]
  },
  {
   "cell_type": "code",
   "execution_count": 7,
   "metadata": {},
   "outputs": [
    {
     "name": "stdout",
     "output_type": "stream",
     "text": [
      "hello shri,good morning\n"
     ]
    }
   ],
   "source": [
    "####       keyword_argument\n",
    "\n",
    "def print_name(**kwargs):\n",
    "    print(\"hello {0},{1}\".format(kwargs[\"name\"],kwargs[\"msg\"]))\n",
    "    \n",
    "print_name(name=\"shri\",msg=\"good morning\")"
   ]
  },
  {
   "cell_type": "code",
   "execution_count": 10,
   "metadata": {},
   "outputs": [
    {
     "name": "stdout",
     "output_type": "stream",
     "text": [
      "shri\n",
      "ravi\n",
      "kunal\n",
      "shivam\n",
      "sindhu\n"
     ]
    }
   ],
   "source": [
    "#####      arbitrary length argument\n",
    "\n",
    "def print_name(*names):\n",
    "    for name in names:\n",
    "        print(name)\n",
    "        \n",
    "print_name(\"shri\",\"ravi\",\"kunal\",\"shivam\",\"sindhu\")"
   ]
  },
  {
   "cell_type": "code",
   "execution_count": null,
   "metadata": {},
   "outputs": [],
   "source": []
  }
 ],
 "metadata": {
  "kernelspec": {
   "display_name": "Python 3",
   "language": "python",
   "name": "python3"
  },
  "language_info": {
   "codemirror_mode": {
    "name": "ipython",
    "version": 3
   },
   "file_extension": ".py",
   "mimetype": "text/x-python",
   "name": "python",
   "nbconvert_exporter": "python",
   "pygments_lexer": "ipython3",
   "version": "3.8.5"
  }
 },
 "nbformat": 4,
 "nbformat_minor": 4
}
