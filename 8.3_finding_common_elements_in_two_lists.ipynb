{
 "cells": [
  {
   "cell_type": "code",
   "execution_count": 5,
   "metadata": {},
   "outputs": [
    {
     "name": "stdout",
     "output_type": "stream",
     "text": [
      "[5, 4]\n"
     ]
    }
   ],
   "source": [
    "import random\n",
    "\n",
    "def find_common(list1,list2,intersection):\n",
    "    for ele1 in list1:\n",
    "        for ele2 in list2:\n",
    "            if(ele1==ele2):\n",
    "                intersection.append(ele1)\n",
    "\n",
    "\n",
    "list1 = [1,2,3,4,5]\n",
    "list2 = [4,5,6,7,8,9]\n",
    "\n",
    "random.shuffle(list1)\n",
    "random.shuffle(list2)\n",
    "\n",
    "intersection = []\n",
    "find_common(list1,list2,intersection)\n",
    "\n",
    "print(intersection)"
   ]
  },
  {
   "cell_type": "code",
   "execution_count": null,
   "metadata": {},
   "outputs": [],
   "source": []
  }
 ],
 "metadata": {
  "kernelspec": {
   "display_name": "Python 3",
   "language": "python",
   "name": "python3"
  },
  "language_info": {
   "codemirror_mode": {
    "name": "ipython",
    "version": 3
   },
   "file_extension": ".py",
   "mimetype": "text/x-python",
   "name": "python",
   "nbconvert_exporter": "python",
   "pygments_lexer": "ipython3",
   "version": "3.8.5"
  }
 },
 "nbformat": 4,
 "nbformat_minor": 4
}
