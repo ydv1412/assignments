{
 "cells": [
  {
   "cell_type": "code",
   "execution_count": 1,
   "metadata": {},
   "outputs": [
    {
     "name": "stdout",
     "output_type": "stream",
     "text": [
      "this is if\n"
     ]
    }
   ],
   "source": [
    "if True:\n",
    "    print(\"this is if\")\n",
    "elif False:\n",
    "    print(\"this is elseif\")\n",
    "else :\n",
    "    print(\"this is else\")"
   ]
  },
  {
   "cell_type": "code",
   "execution_count": 4,
   "metadata": {},
   "outputs": [
    {
     "name": "stdout",
     "output_type": "stream",
     "text": [
      "this is elseif\n"
     ]
    }
   ],
   "source": [
    "if False:\n",
    "    print(\"this is if\")\n",
    "elif True:\n",
    "    print(\"this is elseif\")\n",
    "else :\n",
    "    print(\"this is else\")"
   ]
  },
  {
   "cell_type": "code",
   "execution_count": 6,
   "metadata": {},
   "outputs": [
    {
     "name": "stdout",
     "output_type": "stream",
     "text": [
      "this is else\n"
     ]
    }
   ],
   "source": [
    "if False:\n",
    "    print(\"this is if\")\n",
    "elif False:\n",
    "    print(\"this is elseif\")\n",
    "else :\n",
    "    print(\"this is else\")"
   ]
  },
  {
   "cell_type": "code",
   "execution_count": 7,
   "metadata": {},
   "outputs": [
    {
     "name": "stdout",
     "output_type": "stream",
     "text": [
      "this is else\n"
     ]
    }
   ],
   "source": [
    "if None:                         #none is considered as false\n",
    "    print(\"this is if\")\n",
    "else :\n",
    "    print(\"this is else\")"
   ]
  },
  {
   "cell_type": "code",
   "execution_count": 8,
   "metadata": {},
   "outputs": [
    {
     "name": "stdout",
     "output_type": "stream",
     "text": [
      "this is if\n"
     ]
    }
   ],
   "source": [
    "if 1:                         #positive integer is considered as True\n",
    "    print(\"this is if\")\n",
    "else :\n",
    "    print(\"this is else\")"
   ]
  },
  {
   "cell_type": "code",
   "execution_count": 9,
   "metadata": {},
   "outputs": [
    {
     "name": "stdout",
     "output_type": "stream",
     "text": [
      "this is if\n"
     ]
    }
   ],
   "source": [
    "if -1:                         #negative integer is considered as True\n",
    "    print(\"this is if\")\n",
    "else :\n",
    "    print(\"this is else\")"
   ]
  },
  {
   "cell_type": "code",
   "execution_count": 10,
   "metadata": {},
   "outputs": [
    {
     "name": "stdout",
     "output_type": "stream",
     "text": [
      "this is else\n"
     ]
    }
   ],
   "source": [
    "if 0:                         #negative integer is considered as false\n",
    "    print(\"this is if\")\n",
    "else :\n",
    "    print(\"this is else\")"
   ]
  },
  {
   "cell_type": "markdown",
   "metadata": {},
   "source": [
    "only none,zero and false is consiered as false "
   ]
  },
  {
   "cell_type": "markdown",
   "metadata": {},
   "source": [
    "# program to find largest of three numbers"
   ]
  },
  {
   "cell_type": "code",
   "execution_count": 14,
   "metadata": {},
   "outputs": [
    {
     "name": "stdout",
     "output_type": "stream",
     "text": [
      "c is largest\n"
     ]
    }
   ],
   "source": [
    "a=5 ;b=6 ;c=7\n",
    "if (a>b and a>c):\n",
    "    print(\"a is largest\")\n",
    "elif (b>c and b>a):\n",
    "    print(\"b is largest\")\n",
    "else:\n",
    "    print(\"c is largest\")"
   ]
  },
  {
   "cell_type": "code",
   "execution_count": null,
   "metadata": {},
   "outputs": [],
   "source": []
  }
 ],
 "metadata": {
  "kernelspec": {
   "display_name": "Python 3",
   "language": "python",
   "name": "python3"
  },
  "language_info": {
   "codemirror_mode": {
    "name": "ipython",
    "version": 3
   },
   "file_extension": ".py",
   "mimetype": "text/x-python",
   "name": "python",
   "nbconvert_exporter": "python",
   "pygments_lexer": "ipython3",
   "version": "3.8.5"
  }
 },
 "nbformat": 4,
 "nbformat_minor": 4
}
