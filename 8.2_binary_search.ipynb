{
 "cells": [
  {
   "cell_type": "code",
   "execution_count": 1,
   "metadata": {},
   "outputs": [
    {
     "name": "stdout",
     "output_type": "stream",
     "text": [
      "enter the element you want to search7\n",
      "True\n"
     ]
    }
   ],
   "source": [
    "import pdb\n",
    "\n",
    "def binary_search(list1,i,j,a):\n",
    "    if(i<=j):\n",
    "       # pdb.set_trace()\n",
    "        mid=int((i+j)/2)\n",
    "        #print(mid)\n",
    "        if(list1[mid]==a):\n",
    "            return True\n",
    "        elif(list1[mid]<a):\n",
    "            return binary_search(list1,mid+1,j,a)\n",
    "        else:\n",
    "            return binary_search(list1,i,mid-1,a)\n",
    "    else:\n",
    "        return False\n",
    "\n",
    "    \n",
    "list1 = [1,2,3,4,5,6,7,8]\n",
    "\n",
    "a=int(input(\"enter the element you want to search\"))\n",
    "x = binary_search(list1,0,len(list1)-1,a)\n",
    "\n",
    "print(x)"
   ]
  },
  {
   "cell_type": "code",
   "execution_count": null,
   "metadata": {},
   "outputs": [],
   "source": []
  },
  {
   "cell_type": "code",
   "execution_count": null,
   "metadata": {},
   "outputs": [],
   "source": []
  }
 ],
 "metadata": {
  "kernelspec": {
   "display_name": "Python 3",
   "language": "python",
   "name": "python3"
  },
  "language_info": {
   "codemirror_mode": {
    "name": "ipython",
    "version": 3
   },
   "file_extension": ".py",
   "mimetype": "text/x-python",
   "name": "python",
   "nbconvert_exporter": "python",
   "pygments_lexer": "ipython3",
   "version": "3.8.5"
  }
 },
 "nbformat": 4,
 "nbformat_minor": 4
}
