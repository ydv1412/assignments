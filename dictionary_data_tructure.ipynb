{
 "cells": [
  {
   "cell_type": "code",
   "execution_count": 2,
   "metadata": {},
   "outputs": [
    {
     "name": "stdout",
     "output_type": "stream",
     "text": [
      "{'a': 1, 'b': 2, 'c': 3}\n"
     ]
    }
   ],
   "source": [
    "###dictionary\n",
    "\n",
    "dicti = {'a':1, 'b':2, 'c':3}\n",
    "print(dicti)"
   ]
  },
  {
   "cell_type": "code",
   "execution_count": 3,
   "metadata": {},
   "outputs": [
    {
     "name": "stdout",
     "output_type": "stream",
     "text": [
      "{1: 2, 2: 3}\n"
     ]
    }
   ],
   "source": [
    "##create a dicti from list of tuples\n",
    "\n",
    "dicti = dict([(1,2),(2,3)])\n",
    "print(dicti)"
   ]
  },
  {
   "cell_type": "code",
   "execution_count": 4,
   "metadata": {},
   "outputs": [
    {
     "name": "stdout",
     "output_type": "stream",
     "text": [
      "2\n",
      "2\n"
     ]
    }
   ],
   "source": [
    "##accessing elements of dictionary either by using get() function or by key\n",
    "\n",
    "print(dicti[1])\n",
    "\n",
    "print(dicti.get(1))"
   ]
  },
  {
   "cell_type": "code",
   "execution_count": 5,
   "metadata": {},
   "outputs": [
    {
     "name": "stdout",
     "output_type": "stream",
     "text": [
      "{1: 4, 2: 3}\n",
      "{1: 4, 2: 3, 5: 6}\n"
     ]
    }
   ],
   "source": [
    "###dict add or modify elements\n",
    "\n",
    "dicti[1]=4\n",
    "print(dicti)\n",
    "\n",
    "dicti[5]=6\n",
    "print(dicti)"
   ]
  },
  {
   "cell_type": "code",
   "execution_count": 6,
   "metadata": {},
   "outputs": [
    {
     "name": "stdout",
     "output_type": "stream",
     "text": [
      "3\n",
      "{1: 4, 5: 6}\n"
     ]
    }
   ],
   "source": [
    "###deletion or removel of an element from a dict\n",
    "\n",
    "print(dicti.pop(2))\n",
    "\n",
    "print(dicti)"
   ]
  },
  {
   "cell_type": "code",
   "execution_count": 7,
   "metadata": {},
   "outputs": [
    {
     "name": "stdout",
     "output_type": "stream",
     "text": [
      "{1: 2}\n"
     ]
    }
   ],
   "source": [
    "##popitem() removes any random key value pair from dict\n",
    "dicti = dict([(1,2),(2,3)])\n",
    "dicti.popitem()\n",
    "print(dicti)"
   ]
  },
  {
   "cell_type": "code",
   "execution_count": 19,
   "metadata": {},
   "outputs": [
    {
     "name": "stdout",
     "output_type": "stream",
     "text": [
      "{}\n"
     ]
    }
   ],
   "source": [
    "##clear function can be used to clear all the elements from a dictionary\n",
    "\n",
    "dicti = dict([(1,2),(2,3)])   #or whole dict can be deleted by using del keyword\n",
    "dicti.clear()\n",
    "print(dicti)                          #or del dicti[1] to delee a particular element "
   ]
  },
  {
   "cell_type": "code",
   "execution_count": 20,
   "metadata": {},
   "outputs": [],
   "source": [
    "#dictionary functions\n"
   ]
  },
  {
   "cell_type": "code",
   "execution_count": 21,
   "metadata": {},
   "outputs": [
    {
     "name": "stdout",
     "output_type": "stream",
     "text": [
      "{}\n"
     ]
    }
   ],
   "source": [
    "##copy function\n",
    "\n",
    "dicti1=dicti.copy()\n",
    "print(dicti1)"
   ]
  },
  {
   "cell_type": "code",
   "execution_count": 8,
   "metadata": {},
   "outputs": [
    {
     "name": "stdout",
     "output_type": "stream",
     "text": [
      "{'mayank': [1, 2, 3], 'shri': [1, 2, 3], 'rahul': [1, 2, 3]}\n"
     ]
    }
   ],
   "source": [
    "###use of fromkeys()\n",
    "\n",
    "dict1 = {}.fromkeys(['mayank','shri','rahul'],[1,2,3])\n",
    "print(dict1)"
   ]
  },
  {
   "cell_type": "code",
   "execution_count": 9,
   "metadata": {},
   "outputs": [
    {
     "name": "stdout",
     "output_type": "stream",
     "text": [
      "dict_items([('mayank', [1, 2, 3]), ('shri', [1, 2, 3]), ('rahul', [1, 2, 3])])\n",
      "dict_keys(['mayank', 'shri', 'rahul'])\n",
      "dict_values([[1, 2, 3], [1, 2, 3], [1, 2, 3]])\n"
     ]
    }
   ],
   "source": [
    "##use of items(),keys(),and values()\n",
    "\n",
    "print(dict1.items())\n",
    "print(dict1.keys())\n",
    "print(dict1.values())"
   ]
  },
  {
   "cell_type": "code",
   "execution_count": 28,
   "metadata": {},
   "outputs": [
    {
     "name": "stdout",
     "output_type": "stream",
     "text": [
      "['__class__', '__contains__', '__delattr__', '__delitem__', '__dir__', '__doc__', '__eq__', '__format__', '__ge__', '__getattribute__', '__getitem__', '__gt__', '__hash__', '__init__', '__init_subclass__', '__iter__', '__le__', '__len__', '__lt__', '__ne__', '__new__', '__reduce__', '__reduce_ex__', '__repr__', '__reversed__', '__setattr__', '__setitem__', '__sizeof__', '__str__', '__subclasshook__', 'clear', 'copy', 'fromkeys', 'get', 'items', 'keys', 'pop', 'popitem', 'setdefault', 'update', 'values']\n"
     ]
    }
   ],
   "source": [
    "print(dir(dict1))"
   ]
  },
  {
   "cell_type": "markdown",
   "metadata": {},
   "source": [
    "# dict comprehensions"
   ]
  },
  {
   "cell_type": "code",
   "execution_count": 34,
   "metadata": {},
   "outputs": [
    {
     "name": "stdout",
     "output_type": "stream",
     "text": [
      "{'mayank': 0, 'shri': 0, 'rahul': 0}\n"
     ]
    }
   ],
   "source": [
    "dict2 = {'mayank': 0, 'shri': 0, 'rahul': 0}\n",
    "dict1 = {k:v for k,v in dict2.items()} \n",
    "print(dict1)"
   ]
  },
  {
   "cell_type": "code",
   "execution_count": 35,
   "metadata": {},
   "outputs": [
    {
     "name": "stdout",
     "output_type": "stream",
     "text": [
      "{'shri': 2, 'rahul': 3}\n"
     ]
    }
   ],
   "source": [
    "dict2 = {'mayank': 1, 'shri': 2, 'rahul': 3}\n",
    "dict1 = {k:v for k,v in dict2.items() if v>=2} \n",
    "print(dict1)"
   ]
  },
  {
   "cell_type": "code",
   "execution_count": 36,
   "metadata": {},
   "outputs": [
    {
     "name": "stdout",
     "output_type": "stream",
     "text": [
      "{'shri boy': 4, 'rahul boy': 6}\n"
     ]
    }
   ],
   "source": [
    "dict2 = {'mayank': 1, 'shri': 2, 'rahul': 3}\n",
    "dict1 = {k+' boy':v*2 for k,v in dict2.items() if v>=2} \n",
    "print(dict1)"
   ]
  },
  {
   "cell_type": "code",
   "execution_count": null,
   "metadata": {},
   "outputs": [],
   "source": []
  }
 ],
 "metadata": {
  "kernelspec": {
   "display_name": "Python 3",
   "language": "python",
   "name": "python3"
  },
  "language_info": {
   "codemirror_mode": {
    "name": "ipython",
    "version": 3
   },
   "file_extension": ".py",
   "mimetype": "text/x-python",
   "name": "python",
   "nbconvert_exporter": "python",
   "pygments_lexer": "ipython3",
   "version": "3.8.5"
  }
 },
 "nbformat": 4,
 "nbformat_minor": 4
}
