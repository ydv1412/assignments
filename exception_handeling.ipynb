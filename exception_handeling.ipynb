{
 "cells": [
  {
   "cell_type": "code",
   "execution_count": 1,
   "metadata": {},
   "outputs": [
    {
     "name": "stdout",
     "output_type": "stream",
     "text": [
      "the number is b\n",
      "opps! <class 'ValueError'> happened\n",
      "next entry\n",
      "the number is 0\n",
      "opps! <class 'ZeroDivisionError'> happened\n",
      "next entry\n",
      "the number is 1\n",
      "1.0\n"
     ]
    }
   ],
   "source": [
    "##exception handeling through try except finally block\n",
    "import sys\n",
    "list1 = [ 'b' , 0 , 1 ]\n",
    "\n",
    "for i in list1:\n",
    "    try:\n",
    "        print(\"the number is\",i)\n",
    "        r=1/int(i)\n",
    "    except:\n",
    "        print(\"opps!\",sys.exc_info()[0],\"happened\")\n",
    "        print(\"next entry\")\n",
    "print(r)"
   ]
  },
  {
   "cell_type": "code",
   "execution_count": 6,
   "metadata": {},
   "outputs": [
    {
     "name": "stdout",
     "output_type": "stream",
     "text": [
      "the number is b\n",
      "enter valid divisor\n",
      "the number is 0\n",
      "do not divide by zero\n",
      "the number is 1\n",
      "1.0\n"
     ]
    }
   ],
   "source": [
    "import sys\n",
    "\n",
    "list1 = [ 'b' , 0 , 1 ]\n",
    "\n",
    "for i in list1:\n",
    "    try:\n",
    "        print(\"the number is\",i)\n",
    "        r=1/int(i)\n",
    "    except(ValueError):\n",
    "        print(\"enter valid divisor\")\n",
    "    except(ZeroDivisionError):\n",
    "        print(\"do not divide by zero\")\n",
    "    except:\n",
    "        print(\"some other exceptions has occured\")\n",
    "print(r)"
   ]
  },
  {
   "cell_type": "code",
   "execution_count": 23,
   "metadata": {},
   "outputs": [
    {
     "ename": "KeyboardInterrupt",
     "evalue": "this is keyboard interrupt error",
     "output_type": "error",
     "traceback": [
      "\u001b[1;31m---------------------------------------------------------------------------\u001b[0m",
      "\u001b[1;31mKeyboardInterrupt\u001b[0m                         Traceback (most recent call last)",
      "\u001b[1;32m<ipython-input-23-37c35b2c7989>\u001b[0m in \u001b[0;36m<module>\u001b[1;34m\u001b[0m\n\u001b[1;32m----> 1\u001b[1;33m \u001b[1;32mraise\u001b[0m \u001b[0mKeyboardInterrupt\u001b[0m\u001b[1;33m(\u001b[0m\u001b[1;34m\"this is keyboard interrupt error\"\u001b[0m\u001b[1;33m)\u001b[0m\u001b[1;33m\u001b[0m\u001b[1;33m\u001b[0m\u001b[0m\n\u001b[0m",
      "\u001b[1;31mKeyboardInterrupt\u001b[0m: this is keyboard interrupt error"
     ]
    }
   ],
   "source": [
    "raise KeyboardInterrupt(\"this is keyboard interrupt error\")"
   ]
  },
  {
   "cell_type": "code",
   "execution_count": 2,
   "metadata": {},
   "outputs": [
    {
     "name": "stdout",
     "output_type": "stream",
     "text": [
      "enter a positive number5\n",
      "positive\n",
      "this will run\n"
     ]
    }
   ],
   "source": [
    "import sys\n",
    "\n",
    "number=int(input(\"enter a positive number\"))\n",
    "try:\n",
    "    if(number<0):\n",
    "        raise ValueError(\"negative number\")\n",
    "        \n",
    "    else:\n",
    "        print(\"positive\")\n",
    "except ValueError as e:\n",
    "    print(e)\n",
    "print(\"this will run\")"
   ]
  },
  {
   "cell_type": "code",
   "execution_count": 45,
   "metadata": {},
   "outputs": [
    {
     "name": "stdout",
     "output_type": "stream",
     "text": [
      "error has occured\n",
      "this will run\n"
     ]
    }
   ],
   "source": [
    "import sys\n",
    "\n",
    "try:\n",
    "    r=1/0\n",
    "except:\n",
    "    print(\"error has occured\")\n",
    "finally:\n",
    "    print(\"this will run\")"
   ]
  },
  {
   "cell_type": "code",
   "execution_count": null,
   "metadata": {},
   "outputs": [],
   "source": []
  }
 ],
 "metadata": {
  "kernelspec": {
   "display_name": "Python 3",
   "language": "python",
   "name": "python3"
  },
  "language_info": {
   "codemirror_mode": {
    "name": "ipython",
    "version": 3
   },
   "file_extension": ".py",
   "mimetype": "text/x-python",
   "name": "python",
   "nbconvert_exporter": "python",
   "pygments_lexer": "ipython3",
   "version": "3.8.5"
  }
 },
 "nbformat": 4,
 "nbformat_minor": 4
}
