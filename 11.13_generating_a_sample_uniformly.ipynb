{
 "cells": [
  {
   "cell_type": "code",
   "execution_count": 9,
   "metadata": {},
   "outputs": [],
   "source": [
    "import os\n",
    "import numpy as np\n",
    "import pandas as pd\n",
    "import random"
   ]
  },
  {
   "cell_type": "code",
   "execution_count": 3,
   "metadata": {},
   "outputs": [
    {
     "data": {
      "text/plain": [
       "'C:\\\\Users\\\\shri\\\\shri_python_notes'"
      ]
     },
     "execution_count": 3,
     "metadata": {},
     "output_type": "execute_result"
    }
   ],
   "source": [
    "os.getcwd()"
   ]
  },
  {
   "cell_type": "code",
   "execution_count": 5,
   "metadata": {},
   "outputs": [],
   "source": [
    "os.chdir(\"data_sets\")"
   ]
  },
  {
   "cell_type": "code",
   "execution_count": 38,
   "metadata": {},
   "outputs": [],
   "source": [
    "df = pd.read_csv(\"IRIS.csv\")"
   ]
  },
  {
   "cell_type": "code",
   "execution_count": 85,
   "metadata": {},
   "outputs": [
    {
     "data": {
      "text/plain": [
       "pandas.core.frame.DataFrame"
      ]
     },
     "execution_count": 85,
     "metadata": {},
     "output_type": "execute_result"
    }
   ],
   "source": [
    "type(df)"
   ]
  },
  {
   "cell_type": "code",
   "execution_count": 34,
   "metadata": {},
   "outputs": [
    {
     "data": {
      "text/plain": [
       "sepal_length              5\n",
       "sepal_width             3.6\n",
       "petal_length            1.4\n",
       "petal_width             0.2\n",
       "species         Iris-setosa\n",
       "Name: 4, dtype: object"
      ]
     },
     "execution_count": 34,
     "metadata": {},
     "output_type": "execute_result"
    }
   ],
   "source": [
    "df.iloc[4]"
   ]
  },
  {
   "cell_type": "code",
   "execution_count": 14,
   "metadata": {},
   "outputs": [
    {
     "name": "stdout",
     "output_type": "stream",
     "text": [
      "0.8090454092750795\n"
     ]
    }
   ],
   "source": [
    "print(random.random())"
   ]
  },
  {
   "cell_type": "code",
   "execution_count": 64,
   "metadata": {},
   "outputs": [],
   "source": [
    "#### suppose we have to create sample of 30 data points\n",
    "p = 60/150\n",
    "\n",
    "sample = []"
   ]
  },
  {
   "cell_type": "code",
   "execution_count": 65,
   "metadata": {},
   "outputs": [],
   "source": [
    "for i in range(150):\n",
    "    if(random.random() <= p):\n",
    "        sample.append(df.iloc[i])"
   ]
  },
  {
   "cell_type": "code",
   "execution_count": 102,
   "metadata": {},
   "outputs": [
    {
     "name": "stdout",
     "output_type": "stream",
     "text": [
      "62\n",
      "<class 'list'>\n"
     ]
    }
   ],
   "source": [
    "print(len(sample))\n",
    "print(type(sample))"
   ]
  },
  {
   "cell_type": "code",
   "execution_count": 72,
   "metadata": {},
   "outputs": [
    {
     "name": "stdout",
     "output_type": "stream",
     "text": [
      "[sepal_length            4.9\n",
      "sepal_width               3\n",
      "petal_length            1.4\n",
      "petal_width             0.2\n",
      "species         Iris-setosa\n",
      "Name: 1, dtype: object, sepal_length            4.7\n",
      "sepal_width             3.2\n",
      "petal_length            1.3\n",
      "petal_width             0.2\n",
      "species         Iris-setosa\n",
      "Name: 2, dtype: object, sepal_length            4.6\n",
      "sepal_width             3.4\n",
      "petal_length            1.4\n",
      "petal_width             0.3\n",
      "species         Iris-setosa\n",
      "Name: 6, dtype: object, sepal_length            5.8\n",
      "sepal_width               4\n",
      "petal_length            1.2\n",
      "petal_width             0.2\n",
      "species         Iris-setosa\n",
      "Name: 14, dtype: object, sepal_length            5.1\n",
      "sepal_width             3.7\n",
      "petal_length            1.5\n",
      "petal_width             0.4\n",
      "species         Iris-setosa\n",
      "Name: 21, dtype: object, sepal_length            4.6\n",
      "sepal_width             3.6\n",
      "petal_length              1\n",
      "petal_width             0.2\n",
      "species         Iris-setosa\n",
      "Name: 22, dtype: object, sepal_length            5.1\n",
      "sepal_width             3.3\n",
      "petal_length            1.7\n",
      "petal_width             0.5\n",
      "species         Iris-setosa\n",
      "Name: 23, dtype: object, sepal_length            4.8\n",
      "sepal_width             3.4\n",
      "petal_length            1.9\n",
      "petal_width             0.2\n",
      "species         Iris-setosa\n",
      "Name: 24, dtype: object, sepal_length            5.2\n",
      "sepal_width             3.4\n",
      "petal_length            1.4\n",
      "petal_width             0.2\n",
      "species         Iris-setosa\n",
      "Name: 28, dtype: object, sepal_length            5.4\n",
      "sepal_width             3.4\n",
      "petal_length            1.5\n",
      "petal_width             0.4\n",
      "species         Iris-setosa\n",
      "Name: 31, dtype: object, sepal_length            5.2\n",
      "sepal_width             4.1\n",
      "petal_length            1.5\n",
      "petal_width             0.1\n",
      "species         Iris-setosa\n",
      "Name: 32, dtype: object, sepal_length            4.4\n",
      "sepal_width               3\n",
      "petal_length            1.3\n",
      "petal_width             0.2\n",
      "species         Iris-setosa\n",
      "Name: 38, dtype: object, sepal_length              5\n",
      "sepal_width             3.5\n",
      "petal_length            1.3\n",
      "petal_width             0.3\n",
      "species         Iris-setosa\n",
      "Name: 40, dtype: object, sepal_length            4.5\n",
      "sepal_width             2.3\n",
      "petal_length            1.3\n",
      "petal_width             0.3\n",
      "species         Iris-setosa\n",
      "Name: 41, dtype: object, sepal_length            5.1\n",
      "sepal_width             3.8\n",
      "petal_length            1.9\n",
      "petal_width             0.4\n",
      "species         Iris-setosa\n",
      "Name: 44, dtype: object, sepal_length            5.1\n",
      "sepal_width             3.8\n",
      "petal_length            1.6\n",
      "petal_width             0.2\n",
      "species         Iris-setosa\n",
      "Name: 46, dtype: object, sepal_length            5.3\n",
      "sepal_width             3.7\n",
      "petal_length            1.5\n",
      "petal_width             0.2\n",
      "species         Iris-setosa\n",
      "Name: 48, dtype: object, sepal_length                  7\n",
      "sepal_width                 3.2\n",
      "petal_length                4.7\n",
      "petal_width                 1.4\n",
      "species         Iris-versicolor\n",
      "Name: 50, dtype: object, sepal_length                6.4\n",
      "sepal_width                 3.2\n",
      "petal_length                4.5\n",
      "petal_width                 1.5\n",
      "species         Iris-versicolor\n",
      "Name: 51, dtype: object, sepal_length                5.5\n",
      "sepal_width                 2.3\n",
      "petal_length                  4\n",
      "petal_width                 1.3\n",
      "species         Iris-versicolor\n",
      "Name: 53, dtype: object, sepal_length                5.7\n",
      "sepal_width                 2.8\n",
      "petal_length                4.5\n",
      "petal_width                 1.3\n",
      "species         Iris-versicolor\n",
      "Name: 55, dtype: object, sepal_length                4.9\n",
      "sepal_width                 2.4\n",
      "petal_length                3.3\n",
      "petal_width                   1\n",
      "species         Iris-versicolor\n",
      "Name: 57, dtype: object, sepal_length                5.9\n",
      "sepal_width                   3\n",
      "petal_length                4.2\n",
      "petal_width                 1.5\n",
      "species         Iris-versicolor\n",
      "Name: 61, dtype: object, sepal_length                6.2\n",
      "sepal_width                 2.2\n",
      "petal_length                4.5\n",
      "petal_width                 1.5\n",
      "species         Iris-versicolor\n",
      "Name: 68, dtype: object, sepal_length                5.9\n",
      "sepal_width                 3.2\n",
      "petal_length                4.8\n",
      "petal_width                 1.8\n",
      "species         Iris-versicolor\n",
      "Name: 70, dtype: object, sepal_length                6.1\n",
      "sepal_width                 2.8\n",
      "petal_length                  4\n",
      "petal_width                 1.3\n",
      "species         Iris-versicolor\n",
      "Name: 71, dtype: object, sepal_length                6.3\n",
      "sepal_width                 2.5\n",
      "petal_length                4.9\n",
      "petal_width                 1.5\n",
      "species         Iris-versicolor\n",
      "Name: 72, dtype: object, sepal_length                6.4\n",
      "sepal_width                 2.9\n",
      "petal_length                4.3\n",
      "petal_width                 1.3\n",
      "species         Iris-versicolor\n",
      "Name: 74, dtype: object, sepal_length                6.6\n",
      "sepal_width                   3\n",
      "petal_length                4.4\n",
      "petal_width                 1.4\n",
      "species         Iris-versicolor\n",
      "Name: 75, dtype: object, sepal_length                6.8\n",
      "sepal_width                 2.8\n",
      "petal_length                4.8\n",
      "petal_width                 1.4\n",
      "species         Iris-versicolor\n",
      "Name: 76, dtype: object, sepal_length                  6\n",
      "sepal_width                 2.9\n",
      "petal_length                4.5\n",
      "petal_width                 1.5\n",
      "species         Iris-versicolor\n",
      "Name: 78, dtype: object, sepal_length                5.7\n",
      "sepal_width                 2.6\n",
      "petal_length                3.5\n",
      "petal_width                   1\n",
      "species         Iris-versicolor\n",
      "Name: 79, dtype: object, sepal_length                  6\n",
      "sepal_width                 2.7\n",
      "petal_length                5.1\n",
      "petal_width                 1.6\n",
      "species         Iris-versicolor\n",
      "Name: 83, dtype: object, sepal_length                5.6\n",
      "sepal_width                   3\n",
      "petal_length                4.1\n",
      "petal_width                 1.3\n",
      "species         Iris-versicolor\n",
      "Name: 88, dtype: object, sepal_length                5.5\n",
      "sepal_width                 2.5\n",
      "petal_length                  4\n",
      "petal_width                 1.3\n",
      "species         Iris-versicolor\n",
      "Name: 89, dtype: object, sepal_length                6.1\n",
      "sepal_width                   3\n",
      "petal_length                4.6\n",
      "petal_width                 1.4\n",
      "species         Iris-versicolor\n",
      "Name: 91, dtype: object, sepal_length                  5\n",
      "sepal_width                 2.3\n",
      "petal_length                3.3\n",
      "petal_width                   1\n",
      "species         Iris-versicolor\n",
      "Name: 93, dtype: object, sepal_length                5.6\n",
      "sepal_width                 2.7\n",
      "petal_length                4.2\n",
      "petal_width                 1.3\n",
      "species         Iris-versicolor\n",
      "Name: 94, dtype: object, sepal_length                5.7\n",
      "sepal_width                   3\n",
      "petal_length                4.2\n",
      "petal_width                 1.2\n",
      "species         Iris-versicolor\n",
      "Name: 95, dtype: object, sepal_length               5.8\n",
      "sepal_width                2.7\n",
      "petal_length               5.1\n",
      "petal_width                1.9\n",
      "species         Iris-virginica\n",
      "Name: 101, dtype: object, sepal_length               7.6\n",
      "sepal_width                  3\n",
      "petal_length               6.6\n",
      "petal_width                2.1\n",
      "species         Iris-virginica\n",
      "Name: 105, dtype: object, sepal_length               6.4\n",
      "sepal_width                2.7\n",
      "petal_length               5.3\n",
      "petal_width                1.9\n",
      "species         Iris-virginica\n",
      "Name: 111, dtype: object, sepal_length               6.8\n",
      "sepal_width                  3\n",
      "petal_length               5.5\n",
      "petal_width                2.1\n",
      "species         Iris-virginica\n",
      "Name: 112, dtype: object, sepal_length               5.7\n",
      "sepal_width                2.5\n",
      "petal_length                 5\n",
      "petal_width                  2\n",
      "species         Iris-virginica\n",
      "Name: 113, dtype: object, sepal_length               5.8\n",
      "sepal_width                2.8\n",
      "petal_length               5.1\n",
      "petal_width                2.4\n",
      "species         Iris-virginica\n",
      "Name: 114, dtype: object, sepal_length               6.4\n",
      "sepal_width                3.2\n",
      "petal_length               5.3\n",
      "petal_width                2.3\n",
      "species         Iris-virginica\n",
      "Name: 115, dtype: object, sepal_length               6.5\n",
      "sepal_width                  3\n",
      "petal_length               5.5\n",
      "petal_width                1.8\n",
      "species         Iris-virginica\n",
      "Name: 116, dtype: object, sepal_length                 6\n",
      "sepal_width                2.2\n",
      "petal_length                 5\n",
      "petal_width                1.5\n",
      "species         Iris-virginica\n",
      "Name: 119, dtype: object, sepal_length               6.9\n",
      "sepal_width                3.2\n",
      "petal_length               5.7\n",
      "petal_width                2.3\n",
      "species         Iris-virginica\n",
      "Name: 120, dtype: object, sepal_length               7.7\n",
      "sepal_width                2.8\n",
      "petal_length               6.7\n",
      "petal_width                  2\n",
      "species         Iris-virginica\n",
      "Name: 122, dtype: object, sepal_length               6.7\n",
      "sepal_width                3.3\n",
      "petal_length               5.7\n",
      "petal_width                2.1\n",
      "species         Iris-virginica\n",
      "Name: 124, dtype: object, sepal_length               6.1\n",
      "sepal_width                  3\n",
      "petal_length               4.9\n",
      "petal_width                1.8\n",
      "species         Iris-virginica\n",
      "Name: 127, dtype: object, sepal_length               7.2\n",
      "sepal_width                  3\n",
      "petal_length               5.8\n",
      "petal_width                1.6\n",
      "species         Iris-virginica\n",
      "Name: 129, dtype: object, sepal_length               7.4\n",
      "sepal_width                2.8\n",
      "petal_length               6.1\n",
      "petal_width                1.9\n",
      "species         Iris-virginica\n",
      "Name: 130, dtype: object, sepal_length               6.3\n",
      "sepal_width                2.8\n",
      "petal_length               5.1\n",
      "petal_width                1.5\n",
      "species         Iris-virginica\n",
      "Name: 133, dtype: object, sepal_length               7.7\n",
      "sepal_width                  3\n",
      "petal_length               6.1\n",
      "petal_width                2.3\n",
      "species         Iris-virginica\n",
      "Name: 135, dtype: object, sepal_length               6.3\n",
      "sepal_width                3.4\n",
      "petal_length               5.6\n",
      "petal_width                2.4\n",
      "species         Iris-virginica\n",
      "Name: 136, dtype: object, sepal_length               6.4\n",
      "sepal_width                3.1\n",
      "petal_length               5.5\n",
      "petal_width                1.8\n",
      "species         Iris-virginica\n",
      "Name: 137, dtype: object, sepal_length                 6\n",
      "sepal_width                  3\n",
      "petal_length               4.8\n",
      "petal_width                1.8\n",
      "species         Iris-virginica\n",
      "Name: 138, dtype: object, sepal_length               6.9\n",
      "sepal_width                3.1\n",
      "petal_length               5.1\n",
      "petal_width                2.3\n",
      "species         Iris-virginica\n",
      "Name: 141, dtype: object, sepal_length               5.8\n",
      "sepal_width                2.7\n",
      "petal_length               5.1\n",
      "petal_width                1.9\n",
      "species         Iris-virginica\n",
      "Name: 142, dtype: object, sepal_length               6.8\n",
      "sepal_width                3.2\n",
      "petal_length               5.9\n",
      "petal_width                2.3\n",
      "species         Iris-virginica\n",
      "Name: 143, dtype: object]\n"
     ]
    }
   ],
   "source": [
    "print(sample)"
   ]
  },
  {
   "cell_type": "code",
   "execution_count": 86,
   "metadata": {},
   "outputs": [],
   "source": [
    "iris = df"
   ]
  },
  {
   "cell_type": "code",
   "execution_count": 89,
   "metadata": {},
   "outputs": [],
   "source": [
    "from sklearn import datasets\n",
    "iris=datasets.load_iris()                          #### using load_iris() function here we have connverted an data frame to a numpy array "
   ]
  },
  {
   "cell_type": "code",
   "execution_count": 88,
   "metadata": {},
   "outputs": [],
   "source": [
    "d = iris.data"
   ]
  },
  {
   "cell_type": "code",
   "execution_count": 99,
   "metadata": {},
   "outputs": [
    {
     "name": "stdout",
     "output_type": "stream",
     "text": [
      "<class 'numpy.ndarray'>\n",
      "(150, 4)\n"
     ]
    }
   ],
   "source": [
    "print(type(d))\n",
    "print(d.shape)\n",
    "sample2 = []"
   ]
  },
  {
   "cell_type": "code",
   "execution_count": 100,
   "metadata": {},
   "outputs": [],
   "source": [
    "for i in range(150):\n",
    "    if(random.random() <= p):\n",
    "        sample2.append(d[i,:])"
   ]
  },
  {
   "cell_type": "code",
   "execution_count": 101,
   "metadata": {},
   "outputs": [
    {
     "data": {
      "text/plain": [
       "60"
      ]
     },
     "execution_count": 101,
     "metadata": {},
     "output_type": "execute_result"
    }
   ],
   "source": [
    "len(sample2)"
   ]
  },
  {
   "cell_type": "code",
   "execution_count": 103,
   "metadata": {},
   "outputs": [
    {
     "data": {
      "text/plain": [
       "list"
      ]
     },
     "execution_count": 103,
     "metadata": {},
     "output_type": "execute_result"
    }
   ],
   "source": [
    "type(sample2)"
   ]
  },
  {
   "cell_type": "code",
   "execution_count": null,
   "metadata": {},
   "outputs": [],
   "source": []
  }
 ],
 "metadata": {
  "kernelspec": {
   "display_name": "Python 3",
   "language": "python",
   "name": "python3"
  },
  "language_info": {
   "codemirror_mode": {
    "name": "ipython",
    "version": 3
   },
   "file_extension": ".py",
   "mimetype": "text/x-python",
   "name": "python",
   "nbconvert_exporter": "python",
   "pygments_lexer": "ipython3",
   "version": "3.8.5"
  }
 },
 "nbformat": 4,
 "nbformat_minor": 4
}
