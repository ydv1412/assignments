{
 "cells": [
  {
   "cell_type": "code",
   "execution_count": 11,
   "metadata": {},
   "outputs": [
    {
     "data": {
      "image/png": "[encoded data removed]",
      "text/plain": [
       "<Figure size 432x288 with 1 Axes>"
      ]
     },
     "metadata": {
      "needs_background": "light"
     },
     "output_type": "display_data"
    },
    {
     "name": "stdout",
     "output_type": "stream",
     "text": [
      "95 confidence interval lied between 162 and 173\n"
     ]
    }
   ],
   "source": [
    "#### program to find to 95% confidence interval for median of a population when a sample is give using bootstrap method \n",
    "\n",
    "\n",
    "import numpy as np\n",
    "from sklearn.utils import resample                         #resample is a function which returns a sample from an array of given size\n",
    "from sklearn.metrics import accuracy_score\n",
    "from matplotlib import pyplot\n",
    "\n",
    "x = np.array([180,162,158,172,168,150,171,183,165,173])\n",
    "c_i=0.95\n",
    "n_size=len(x)\n",
    "median = []\n",
    "for i in range (1000):\n",
    "    s = resample(x,n_samples=n_size)\n",
    "    m = np.median(s)\n",
    "    median.append(m)\n",
    "    \n",
    "pyplot.hist(median)\n",
    "pyplot.show()\n",
    "\n",
    "p=(1-0.95)/2*100\n",
    "first_percentile = np.percentile(median,p)\n",
    "\n",
    "p=(0.95+(1-0.95)/2)*100\n",
    "second_percentile= np.percentile(median,p)\n",
    "\n",
    "print(\"%.lf confidence interval lied between %.lf and %.lf\"%(c_i*100,first_percentile,second_percentile))"
   ]
  },
  {
   "cell_type": "code",
   "execution_count": null,
   "metadata": {},
   "outputs": [],
   "source": []
  }
 ],
 "metadata": {
  "kernelspec": {
   "display_name": "Python 3",
   "language": "python",
   "name": "python3"
  },
  "language_info": {
   "codemirror_mode": {
    "name": "ipython",
    "version": 3
   },
   "file_extension": ".py",
   "mimetype": "text/x-python",
   "name": "python",
   "nbconvert_exporter": "python",
   "pygments_lexer": "ipython3",
   "version": "3.8.5"
  }
 },
 "nbformat": 4,
 "nbformat_minor": 4
}
